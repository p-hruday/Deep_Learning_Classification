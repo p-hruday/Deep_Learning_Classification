{
  "nbformat": 4,
  "nbformat_minor": 0,
  "metadata": {
    "colab": {
      "provenance": []
    },
    "kernelspec": {
      "name": "python3",
      "display_name": "Python 3"
    },
    "language_info": {
      "name": "python"
    }
  },
  "cells": [
    {
      "cell_type": "markdown",
      "source": [
        "# **German Credit Card Worthiness Classification Using Deep Learning**"
      ],
      "metadata": {
        "id": "qK_vCQpz64Xu"
      }
    },
    {
      "cell_type": "markdown",
      "source": [
        "## 1.Importing Necessary Libraries\n"
      ],
      "metadata": {
        "id": "-BoK8wdD7IND"
      }
    },
    {
      "cell_type": "markdown",
      "source": [
        "### 1.1 imports the libraries used for data handling, visualization, model building, and evaluation."
      ],
      "metadata": {
        "id": "uTHTB3Qb-fm2"
      }
    },
    {
      "cell_type": "code",
      "source": [
        "import pandas as pd\n",
        "import numpy as np\n",
        "import matplotlib.pyplot as plt\n",
        "import seaborn as sns\n",
        "from sklearn.model_selection import train_test_split, GridSearchCV\n",
        "from sklearn.preprocessing import StandardScaler\n",
        "from sklearn.metrics import classification_report, confusion_matrix, roc_curve, auc\n",
        "from sklearn.ensemble import RandomForestClassifier\n",
        "from sklearn.svm import SVC\n",
        "from tensorflow.keras.models import Sequential\n",
        "from tensorflow.keras.layers import Dense, Dropout, Input\n",
        "from tensorflow.keras.optimizers import Adam\n",
        "from tensorflow.keras.callbacks import EarlyStopping\n"
      ],
      "metadata": {
        "id": "cpZQogN47PYu"
      },
      "execution_count": 22,
      "outputs": []
    },
    {
      "cell_type": "markdown",
      "source": [
        "## 2.Loading and Preprocessing the Dataset"
      ],
      "metadata": {
        "id": "kvGUP9Gf7qCS"
      }
    },
    {
      "cell_type": "markdown",
      "source": [
        "### 2.1 Load Dataset"
      ],
      "metadata": {
        "id": "hkwMCERx7w12"
      }
    },
    {
      "cell_type": "code",
      "source": [
        "file_path = \"/content/german.data-numeric\"\n",
        "data = pd.read_csv(file_path, delimiter='\\s+', header=None, usecols=range(21))"
      ],
      "metadata": {
        "id": "Zz5rsMiU7R9y"
      },
      "execution_count": 3,
      "outputs": []
    },
    {
      "cell_type": "markdown",
      "source": [
        "### 2.2 Add column names (from documentation)\n"
      ],
      "metadata": {
        "id": "KRMShOsu75BU"
      }
    },
    {
      "cell_type": "code",
      "source": [
        "columns = [\n",
        "    \"Status\", \"Duration\", \"CreditHistory\", \"Purpose\", \"CreditAmount\",\n",
        "    \"SavingsAccount\", \"Employment\", \"InstallmentRate\", \"PersonalStatus\", \"OtherDebtors\",\n",
        "    \"Residence\", \"Property\", \"Age\", \"OtherInstallmentPlans\", \"Housing\",\n",
        "    \"ExistingCredits\", \"Job\", \"LiablePersons\", \"Telephone\", \"ForeignWorker\", \"CreditRisk\"\n",
        "]\n",
        "\n",
        "data.columns = columns"
      ],
      "metadata": {
        "id": "ogYcvEfE78do"
      },
      "execution_count": 4,
      "outputs": []
    },
    {
      "cell_type": "markdown",
      "source": [
        "### 2.3 Exploratory Data Analysis"
      ],
      "metadata": {
        "id": "0y4b43nh7_DM"
      }
    },
    {
      "cell_type": "code",
      "source": [
        "plt.figure(figsize=(5, 3))\n",
        "sns.countplot(data=data, x='CreditRisk', color='blue')\n",
        "plt.title('Credit Risk Distribution')\n",
        "plt.show()"
      ],
      "metadata": {
        "colab": {
          "base_uri": "https://localhost:8080/",
          "height": 333
        },
        "id": "u8rYMICD8BR9",
        "outputId": "ed727863-546e-4eba-bc7b-4d02f543e70f"
      },
      "execution_count": 8,
      "outputs": [
        {
          "output_type": "display_data",
          "data": {
            "text/plain": [
              "<Figure size 500x300 with 1 Axes>"
            ],
            "image/png": "[encoded data removed]"
          },
          "metadata": {}
        }
      ]
    },
    {
      "cell_type": "markdown",
      "source": [
        "## 3.Feature Engineering and Splitting the Data"
      ],
      "metadata": {
        "id": "JwVS1B578HKZ"
      }
    },
    {
      "cell_type": "markdown",
      "source": [
        "### 3.1 Feature Selection\n"
      ],
      "metadata": {
        "id": "HbrSnDBA8KPJ"
      }
    },
    {
      "cell_type": "code",
      "source": [
        "X = data.drop('CreditRisk', axis=1)\n",
        "y = data['CreditRisk']\n"
      ],
      "metadata": {
        "id": "2hNel88E8Mag"
      },
      "execution_count": 9,
      "outputs": []
    },
    {
      "cell_type": "markdown",
      "source": [
        "### 3.2 Train-Test Split"
      ],
      "metadata": {
        "id": "O_drJIdl8PL1"
      }
    },
    {
      "cell_type": "code",
      "source": [
        "X_train, X_val, y_train, y_val = train_test_split(X, y, test_size=0.2, random_state=42, stratify=y)\n"
      ],
      "metadata": {
        "id": "rttME2PI8SCD"
      },
      "execution_count": 10,
      "outputs": []
    },
    {
      "cell_type": "markdown",
      "source": [
        "### 3.3 Feature Scaling"
      ],
      "metadata": {
        "id": "dK4Y69pO8Tfv"
      }
    },
    {
      "cell_type": "code",
      "source": [
        "scaler = StandardScaler()\n",
        "X_train_scaled = scaler.fit_transform(X_train)\n",
        "X_val_scaled = scaler.transform(X_val)"
      ],
      "metadata": {
        "id": "HfwNpxRL8V5i"
      },
      "execution_count": 11,
      "outputs": []
    },
    {
      "cell_type": "markdown",
      "source": [
        "## 4.Random Forest Model with Hyperparameter Tuning\n"
      ],
      "metadata": {
        "id": "pH0E-sVj8Xtp"
      }
    },
    {
      "cell_type": "markdown",
      "source": [
        "### 4.1 Define Parameter Grid\n"
      ],
      "metadata": {
        "id": "NpSD8Dqx8ZrT"
      }
    },
    {
      "cell_type": "code",
      "source": [
        "param_grid_rf = {\n",
        "    'n_estimators': [50, 100, 200],\n",
        "    'max_depth': [None, 10, 20],\n",
        "    'min_samples_split': [2, 5, 10]\n",
        "}\n"
      ],
      "metadata": {
        "id": "QMn3iiz38cBE"
      },
      "execution_count": 12,
      "outputs": []
    },
    {
      "cell_type": "markdown",
      "source": [
        "### 4.2 Train Random Forest Model\n"
      ],
      "metadata": {
        "id": "-jcYsBGB8dw7"
      }
    },
    {
      "cell_type": "code",
      "source": [
        "rf = RandomForestClassifier(random_state=42)\n",
        "grid_search_rf = GridSearchCV(estimator=rf, param_grid=param_grid_rf, cv=5, scoring='accuracy', n_jobs=-1)\n",
        "grid_search_rf.fit(X_train_scaled, y_train)\n",
        "\n",
        "print(f\"Best Random Forest Parameters: {grid_search_rf.best_params_}\")\n",
        "\n",
        "rf_best = grid_search_rf.best_estimator_\n",
        "rf_predictions = rf_best.predict(X_val_scaled)\n",
        "\n",
        "print(\"Random Forest Classification Report:\")\n",
        "print(classification_report(y_val, rf_predictions))"
      ],
      "metadata": {
        "colab": {
          "base_uri": "https://localhost:8080/"
        },
        "id": "Cio6hRC98gH2",
        "outputId": "7dc3ca75-2608-469c-fabe-3e41cf853315"
      },
      "execution_count": 13,
      "outputs": [
        {
          "output_type": "stream",
          "name": "stdout",
          "text": [
            "Best Random Forest Parameters: {'max_depth': 10, 'min_samples_split': 2, 'n_estimators': 100}\n",
            "Random Forest Classification Report:\n",
            "              precision    recall  f1-score   support\n",
            "\n",
            "           0       0.89      0.96      0.92        57\n",
            "           1       0.99      0.95      0.97       143\n",
            "\n",
            "    accuracy                           0.95       200\n",
            "   macro avg       0.94      0.96      0.95       200\n",
            "weighted avg       0.96      0.95      0.96       200\n",
            "\n"
          ]
        }
      ]
    },
    {
      "cell_type": "markdown",
      "source": [
        "## 5.Support Vector Machine Model\n"
      ],
      "metadata": {
        "id": "BfXVsxh18j_H"
      }
    },
    {
      "cell_type": "markdown",
      "source": [
        "### 5.1 Define Parameter Grid\n"
      ],
      "metadata": {
        "id": "__EDp0Xx8lZv"
      }
    },
    {
      "cell_type": "code",
      "source": [
        "param_grid_svc = {\n",
        "    'C': [0.1, 1, 10],\n",
        "    'kernel': ['linear', 'rbf'],\n",
        "    'gamma': ['scale', 'auto']\n",
        "}"
      ],
      "metadata": {
        "id": "qsCcvuNQ8noQ"
      },
      "execution_count": 14,
      "outputs": []
    },
    {
      "cell_type": "markdown",
      "source": [
        "### 5.2 Train SVM Model"
      ],
      "metadata": {
        "id": "wnZRmHoc8pTv"
      }
    },
    {
      "cell_type": "code",
      "source": [
        "svc = SVC(probability=True, random_state=42)\n",
        "grid_search_svc = GridSearchCV(estimator=svc, param_grid=param_grid_svc, cv=5, scoring='accuracy', n_jobs=-1)\n",
        "grid_search_svc.fit(X_train_scaled, y_train)\n",
        "\n",
        "print(f\"Best SVM Parameters: {grid_search_svc.best_params_}\")\n",
        "\n",
        "svc_best = grid_search_svc.best_estimator_\n",
        "svc_predictions = svc_best.predict(X_val_scaled)\n",
        "\n",
        "print(\"SVM Classification Report:\")\n",
        "print(classification_report(y_val, svc_predictions))"
      ],
      "metadata": {
        "colab": {
          "base_uri": "https://localhost:8080/"
        },
        "id": "AtCAMZcX8rUq",
        "outputId": "02842e7e-3cfd-43db-ae76-84f29f59e714"
      },
      "execution_count": 15,
      "outputs": [
        {
          "output_type": "stream",
          "name": "stdout",
          "text": [
            "Best SVM Parameters: {'C': 10, 'gamma': 'scale', 'kernel': 'linear'}\n",
            "SVM Classification Report:\n",
            "              precision    recall  f1-score   support\n",
            "\n",
            "           0       0.89      0.98      0.93        57\n",
            "           1       0.99      0.95      0.97       143\n",
            "\n",
            "    accuracy                           0.96       200\n",
            "   macro avg       0.94      0.97      0.95       200\n",
            "weighted avg       0.96      0.96      0.96       200\n",
            "\n"
          ]
        }
      ]
    },
    {
      "cell_type": "markdown",
      "source": [
        "## 6.Comparing Models Using ROC Curves\n"
      ],
      "metadata": {
        "id": "BthXTnHC8u8Q"
      }
    },
    {
      "cell_type": "code",
      "source": [
        "plt.figure(figsize=(10, 6))"
      ],
      "metadata": {
        "colab": {
          "base_uri": "https://localhost:8080/",
          "height": 52
        },
        "id": "rX4vycWR8zP2",
        "outputId": "65f1ed47-a722-4804-b277-447123d9b725"
      },
      "execution_count": 16,
      "outputs": [
        {
          "output_type": "execute_result",
          "data": {
            "text/plain": [
              "<Figure size 1000x600 with 0 Axes>"
            ]
          },
          "metadata": {},
          "execution_count": 16
        },
        {
          "output_type": "display_data",
          "data": {
            "text/plain": [
              "<Figure size 1000x600 with 0 Axes>"
            ]
          },
          "metadata": {}
        }
      ]
    },
    {
      "cell_type": "markdown",
      "source": [
        "### 6.1 Random Forest ROC\n"
      ],
      "metadata": {
        "id": "x6qcZHFy80N9"
      }
    },
    {
      "cell_type": "code",
      "source": [
        "rf_probs = rf_best.predict_proba(X_val_scaled)[:, 1]\n",
        "rf_fpr, rf_tpr, _ = roc_curve(y_val, rf_probs)\n",
        "rf_auc = auc(rf_fpr, rf_tpr)\n",
        "plt.plot(rf_fpr, rf_tpr, label=f\"Random Forest (AUC = {rf_auc:.2f})\")"
      ],
      "metadata": {
        "colab": {
          "base_uri": "https://localhost:8080/",
          "height": 447
        },
        "id": "x5M2Z8uI82W6",
        "outputId": "5ebb094f-da21-40bd-db3c-d80ad2033a7d"
      },
      "execution_count": 17,
      "outputs": [
        {
          "output_type": "execute_result",
          "data": {
            "text/plain": [
              "[<matplotlib.lines.Line2D at 0x7ee685f39c00>]"
            ]
          },
          "metadata": {},
          "execution_count": 17
        },
        {
          "output_type": "display_data",
          "data": {
            "text/plain": [
              "<Figure size 640x480 with 1 Axes>"
            ],
            "image/png": "[encoded data removed]"
          },
          "metadata": {}
        }
      ]
    },
    {
      "cell_type": "markdown",
      "source": [
        "### 6.2 SVM ROC"
      ],
      "metadata": {
        "id": "eetdH1la85cJ"
      }
    },
    {
      "cell_type": "code",
      "source": [
        "svc_probs = svc_best.predict_proba(X_val_scaled)[:, 1]\n",
        "svc_fpr, svc_tpr, _ = roc_curve(y_val, svc_probs)\n",
        "svc_auc = auc(svc_fpr, svc_tpr)\n",
        "plt.plot(svc_fpr, svc_tpr, label=f\"SVM (AUC = {svc_auc:.2f})\")"
      ],
      "metadata": {
        "colab": {
          "base_uri": "https://localhost:8080/",
          "height": 447
        },
        "id": "oqb0bpx887N3",
        "outputId": "fa277a3a-fce4-4084-dcf7-b4451a59830d"
      },
      "execution_count": 18,
      "outputs": [
        {
          "output_type": "execute_result",
          "data": {
            "text/plain": [
              "[<matplotlib.lines.Line2D at 0x7ee683abe2c0>]"
            ]
          },
          "metadata": {},
          "execution_count": 18
        },
        {
          "output_type": "display_data",
          "data": {
            "text/plain": [
              "<Figure size 640x480 with 1 Axes>"
            ],
            "image/png": "[encoded data removed]"
          },
          "metadata": {}
        }
      ]
    },
    {
      "cell_type": "markdown",
      "source": [
        "### 6.3 Baseline"
      ],
      "metadata": {
        "id": "3AbKcOTx8-aH"
      }
    },
    {
      "cell_type": "code",
      "source": [
        "plt.plot([0, 1], [0, 1], 'k--', label='Baseline (AUC = 0.50)')\n",
        "\n",
        "plt.title('ROC Curve Comparison')\n",
        "plt.xlabel('False Positive Rate')\n",
        "plt.ylabel('True Positive Rate')\n",
        "plt.legend(loc='lower right')\n",
        "plt.grid()\n",
        "plt.show()"
      ],
      "metadata": {
        "colab": {
          "base_uri": "https://localhost:8080/",
          "height": 472
        },
        "id": "UMzOW3KA9Abw",
        "outputId": "0833e952-f598-4600-b5d5-823a769df266"
      },
      "execution_count": 19,
      "outputs": [
        {
          "output_type": "display_data",
          "data": {
            "text/plain": [
              "<Figure size 640x480 with 1 Axes>"
            ],
            "image/png": "[encoded data removed]"
          },
          "metadata": {}
        }
      ]
    },
    {
      "cell_type": "markdown",
      "source": [
        "## 7.Building and Training a Neural Network\n"
      ],
      "metadata": {
        "id": "bB_W5ZBa9DO7"
      }
    },
    {
      "cell_type": "markdown",
      "source": [
        "### 7.1 Define the Model\n"
      ],
      "metadata": {
        "id": "Vl7rCZsK9FAN"
      }
    },
    {
      "cell_type": "code",
      "source": [
        "model = Sequential([\n",
        "    Input(shape=(X_train_scaled.shape[1],)),\n",
        "    Dense(64, activation='relu'),\n",
        "    Dropout(0.4),\n",
        "    Dense(64, activation='relu'),\n",
        "    Dropout(0.4),\n",
        "    Dense(1, activation='sigmoid')\n",
        "])"
      ],
      "metadata": {
        "id": "nJqfJTzd9GCU"
      },
      "execution_count": 23,
      "outputs": []
    },
    {
      "cell_type": "markdown",
      "source": [
        "### 7.2 Compile the *Model*"
      ],
      "metadata": {
        "id": "JH2AmBkT9J2_"
      }
    },
    {
      "cell_type": "code",
      "source": [
        "model.compile(optimizer=Adam(learning_rate=0.0005),\n",
        "              loss='binary_crossentropy',\n",
        "              metrics=['accuracy'])"
      ],
      "metadata": {
        "id": "T5nmLkd89NLo"
      },
      "execution_count": 24,
      "outputs": []
    },
    {
      "cell_type": "markdown",
      "source": [
        "### 7.3 Early Stopping Callback"
      ],
      "metadata": {
        "id": "SZNv1xd29O_2"
      }
    },
    {
      "cell_type": "code",
      "source": [
        "early_stopping = EarlyStopping(monitor='val_loss', patience=15, restore_best_weights=True)\n"
      ],
      "metadata": {
        "id": "9GpWYnbW9TST"
      },
      "execution_count": 25,
      "outputs": []
    },
    {
      "cell_type": "markdown",
      "source": [
        "### 7.4 Train the Model"
      ],
      "metadata": {
        "id": "-_IKbjMj9Vmh"
      }
    },
    {
      "cell_type": "code",
      "source": [
        "history = model.fit(\n",
        "    X_train_scaled, y_train,\n",
        "    validation_data=(X_val_scaled, y_val),\n",
        "    epochs=200,\n",
        "    batch_size=32,\n",
        "    callbacks=[early_stopping],\n",
        "    verbose=1\n",
        ")"
      ],
      "metadata": {
        "colab": {
          "base_uri": "https://localhost:8080/"
        },
        "id": "bPjAqOvJ9XIZ",
        "outputId": "aed69194-0208-42f2-c295-970c7e0fc7fe"
      },
      "execution_count": 26,
      "outputs": [
        {
          "output_type": "stream",
          "name": "stdout",
          "text": [
            "Epoch 1/200\n",
            "\u001b[1m25/25\u001b[0m \u001b[32m━━━━━━━━━━━━━━━━━━━━\u001b[0m\u001b[37m\u001b[0m \u001b[1m1s\u001b[0m 10ms/step - accuracy: 0.6510 - loss: 0.6746 - val_accuracy: 0.7200 - val_loss: 0.5563\n",
            "Epoch 2/200\n",
            "\u001b[1m25/25\u001b[0m \u001b[32m━━━━━━━━━━━━━━━━━━━━\u001b[0m\u001b[37m\u001b[0m \u001b[1m0s\u001b[0m 3ms/step - accuracy: 0.7141 - loss: 0.5727 - val_accuracy: 0.7400 - val_loss: 0.5084\n",
            "Epoch 3/200\n",
            "\u001b[1m25/25\u001b[0m \u001b[32m━━━━━━━━━━━━━━━━━━━━\u001b[0m\u001b[37m\u001b[0m \u001b[1m0s\u001b[0m 3ms/step - accuracy: 0.7225 - loss: 0.5675 - val_accuracy: 0.7950 - val_loss: 0.4661\n",
            "Epoch 4/200\n",
            "\u001b[1m25/25\u001b[0m \u001b[32m━━━━━━━━━━━━━━━━━━━━\u001b[0m\u001b[37m\u001b[0m \u001b[1m0s\u001b[0m 5ms/step - accuracy: 0.7772 - loss: 0.4787 - val_accuracy: 0.8350 - val_loss: 0.4241\n",
            "Epoch 5/200\n",
            "\u001b[1m25/25\u001b[0m \u001b[32m━━━━━━━━━━━━━━━━━━━━\u001b[0m\u001b[37m\u001b[0m \u001b[1m0s\u001b[0m 6ms/step - accuracy: 0.8053 - loss: 0.4498 - val_accuracy: 0.8600 - val_loss: 0.3851\n",
            "Epoch 6/200\n",
            "\u001b[1m25/25\u001b[0m \u001b[32m━━━━━━━━━━━━━━━━━━━━\u001b[0m\u001b[37m\u001b[0m \u001b[1m0s\u001b[0m 5ms/step - accuracy: 0.8230 - loss: 0.4071 - val_accuracy: 0.8800 - val_loss: 0.3487\n",
            "Epoch 7/200\n",
            "\u001b[1m25/25\u001b[0m \u001b[32m━━━━━━━━━━━━━━━━━━━━\u001b[0m\u001b[37m\u001b[0m \u001b[1m0s\u001b[0m 4ms/step - accuracy: 0.8310 - loss: 0.3841 - val_accuracy: 0.8900 - val_loss: 0.3140\n",
            "Epoch 8/200\n",
            "\u001b[1m25/25\u001b[0m \u001b[32m━━━━━━━━━━━━━━━━━━━━\u001b[0m\u001b[37m\u001b[0m \u001b[1m0s\u001b[0m 5ms/step - accuracy: 0.8517 - loss: 0.3702 - val_accuracy: 0.9250 - val_loss: 0.2855\n",
            "Epoch 9/200\n",
            "\u001b[1m25/25\u001b[0m \u001b[32m━━━━━━━━━━━━━━━━━━━━\u001b[0m\u001b[37m\u001b[0m \u001b[1m0s\u001b[0m 4ms/step - accuracy: 0.8838 - loss: 0.3351 - val_accuracy: 0.9200 - val_loss: 0.2603\n",
            "Epoch 10/200\n",
            "\u001b[1m25/25\u001b[0m \u001b[32m━━━━━━━━━━━━━━━━━━━━\u001b[0m\u001b[37m\u001b[0m \u001b[1m0s\u001b[0m 6ms/step - accuracy: 0.9070 - loss: 0.2755 - val_accuracy: 0.9200 - val_loss: 0.2372\n",
            "Epoch 11/200\n",
            "\u001b[1m25/25\u001b[0m \u001b[32m━━━━━━━━━━━━━━━━━━━━\u001b[0m\u001b[37m\u001b[0m \u001b[1m0s\u001b[0m 5ms/step - accuracy: 0.8879 - loss: 0.2938 - val_accuracy: 0.9300 - val_loss: 0.2173\n",
            "Epoch 12/200\n",
            "\u001b[1m25/25\u001b[0m \u001b[32m━━━━━━━━━━━━━━━━━━━━\u001b[0m\u001b[37m\u001b[0m \u001b[1m0s\u001b[0m 4ms/step - accuracy: 0.9205 - loss: 0.2556 - val_accuracy: 0.9350 - val_loss: 0.1987\n",
            "Epoch 13/200\n",
            "\u001b[1m25/25\u001b[0m \u001b[32m━━━━━━━━━━━━━━━━━━━━\u001b[0m\u001b[37m\u001b[0m \u001b[1m0s\u001b[0m 6ms/step - accuracy: 0.9058 - loss: 0.2707 - val_accuracy: 0.9350 - val_loss: 0.1848\n",
            "Epoch 14/200\n",
            "\u001b[1m25/25\u001b[0m \u001b[32m━━━━━━━━━━━━━━━━━━━━\u001b[0m\u001b[37m\u001b[0m \u001b[1m0s\u001b[0m 5ms/step - accuracy: 0.9008 - loss: 0.2283 - val_accuracy: 0.9350 - val_loss: 0.1736\n",
            "Epoch 15/200\n",
            "\u001b[1m25/25\u001b[0m \u001b[32m━━━━━━━━━━━━━━━━━━━━\u001b[0m\u001b[37m\u001b[0m \u001b[1m0s\u001b[0m 5ms/step - accuracy: 0.9052 - loss: 0.2348 - val_accuracy: 0.9350 - val_loss: 0.1633\n",
            "Epoch 16/200\n",
            "\u001b[1m25/25\u001b[0m \u001b[32m━━━━━━━━━━━━━━━━━━━━\u001b[0m\u001b[37m\u001b[0m \u001b[1m0s\u001b[0m 5ms/step - accuracy: 0.9284 - loss: 0.2079 - val_accuracy: 0.9450 - val_loss: 0.1531\n",
            "Epoch 17/200\n",
            "\u001b[1m25/25\u001b[0m \u001b[32m━━━━━━━━━━━━━━━━━━━━\u001b[0m\u001b[37m\u001b[0m \u001b[1m0s\u001b[0m 5ms/step - accuracy: 0.9316 - loss: 0.1945 - val_accuracy: 0.9450 - val_loss: 0.1469\n",
            "Epoch 18/200\n",
            "\u001b[1m25/25\u001b[0m \u001b[32m━━━━━━━━━━━━━━━━━━━━\u001b[0m\u001b[37m\u001b[0m \u001b[1m0s\u001b[0m 3ms/step - accuracy: 0.9327 - loss: 0.1977 - val_accuracy: 0.9600 - val_loss: 0.1420\n",
            "Epoch 19/200\n",
            "\u001b[1m25/25\u001b[0m \u001b[32m━━━━━━━━━━━━━━━━━━━━\u001b[0m\u001b[37m\u001b[0m \u001b[1m0s\u001b[0m 3ms/step - accuracy: 0.9501 - loss: 0.1606 - val_accuracy: 0.9650 - val_loss: 0.1397\n",
            "Epoch 20/200\n",
            "\u001b[1m25/25\u001b[0m \u001b[32m━━━━━━━━━━━━━━━━━━━━\u001b[0m\u001b[37m\u001b[0m \u001b[1m0s\u001b[0m 3ms/step - accuracy: 0.9207 - loss: 0.2002 - val_accuracy: 0.9600 - val_loss: 0.1341\n",
            "Epoch 21/200\n",
            "\u001b[1m25/25\u001b[0m \u001b[32m━━━━━━━━━━━━━━━━━━━━\u001b[0m\u001b[37m\u001b[0m \u001b[1m0s\u001b[0m 3ms/step - accuracy: 0.9315 - loss: 0.1825 - val_accuracy: 0.9500 - val_loss: 0.1292\n",
            "Epoch 22/200\n",
            "\u001b[1m25/25\u001b[0m \u001b[32m━━━━━━━━━━━━━━━━━━━━\u001b[0m\u001b[37m\u001b[0m \u001b[1m0s\u001b[0m 3ms/step - accuracy: 0.9451 - loss: 0.1523 - val_accuracy: 0.9550 - val_loss: 0.1255\n",
            "Epoch 23/200\n",
            "\u001b[1m25/25\u001b[0m \u001b[32m━━━━━━━━━━━━━━━━━━━━\u001b[0m\u001b[37m\u001b[0m \u001b[1m0s\u001b[0m 3ms/step - accuracy: 0.9182 - loss: 0.2050 - val_accuracy: 0.9550 - val_loss: 0.1265\n",
            "Epoch 24/200\n",
            "\u001b[1m25/25\u001b[0m \u001b[32m━━━━━━━━━━━━━━━━━━━━\u001b[0m\u001b[37m\u001b[0m \u001b[1m0s\u001b[0m 3ms/step - accuracy: 0.9499 - loss: 0.1456 - val_accuracy: 0.9600 - val_loss: 0.1244\n",
            "Epoch 25/200\n",
            "\u001b[1m25/25\u001b[0m \u001b[32m━━━━━━━━━━━━━━━━━━━━\u001b[0m\u001b[37m\u001b[0m \u001b[1m0s\u001b[0m 3ms/step - accuracy: 0.9374 - loss: 0.1650 - val_accuracy: 0.9600 - val_loss: 0.1221\n",
            "Epoch 26/200\n",
            "\u001b[1m25/25\u001b[0m \u001b[32m━━━━━━━━━━━━━━━━━━━━\u001b[0m\u001b[37m\u001b[0m \u001b[1m0s\u001b[0m 3ms/step - accuracy: 0.9545 - loss: 0.1203 - val_accuracy: 0.9650 - val_loss: 0.1224\n",
            "Epoch 27/200\n",
            "\u001b[1m25/25\u001b[0m \u001b[32m━━━━━━━━━━━━━━━━━━━━\u001b[0m\u001b[37m\u001b[0m \u001b[1m0s\u001b[0m 3ms/step - accuracy: 0.9419 - loss: 0.1496 - val_accuracy: 0.9650 - val_loss: 0.1206\n",
            "Epoch 28/200\n",
            "\u001b[1m25/25\u001b[0m \u001b[32m━━━━━━━━━━━━━━━━━━━━\u001b[0m\u001b[37m\u001b[0m \u001b[1m0s\u001b[0m 3ms/step - accuracy: 0.9416 - loss: 0.1377 - val_accuracy: 0.9650 - val_loss: 0.1190\n",
            "Epoch 29/200\n",
            "\u001b[1m25/25\u001b[0m \u001b[32m━━━━━━━━━━━━━━━━━━━━\u001b[0m\u001b[37m\u001b[0m \u001b[1m0s\u001b[0m 3ms/step - accuracy: 0.9507 - loss: 0.1168 - val_accuracy: 0.9650 - val_loss: 0.1150\n",
            "Epoch 30/200\n",
            "\u001b[1m25/25\u001b[0m \u001b[32m━━━━━━━━━━━━━━━━━━━━\u001b[0m\u001b[37m\u001b[0m \u001b[1m0s\u001b[0m 3ms/step - accuracy: 0.9324 - loss: 0.1529 - val_accuracy: 0.9600 - val_loss: 0.1136\n",
            "Epoch 31/200\n",
            "\u001b[1m25/25\u001b[0m \u001b[32m━━━━━━━━━━━━━━━━━━━━\u001b[0m\u001b[37m\u001b[0m \u001b[1m0s\u001b[0m 4ms/step - accuracy: 0.9584 - loss: 0.1466 - val_accuracy: 0.9600 - val_loss: 0.1126\n",
            "Epoch 32/200\n",
            "\u001b[1m25/25\u001b[0m \u001b[32m━━━━━━━━━━━━━━━━━━━━\u001b[0m\u001b[37m\u001b[0m \u001b[1m0s\u001b[0m 3ms/step - accuracy: 0.9558 - loss: 0.1458 - val_accuracy: 0.9600 - val_loss: 0.1118\n",
            "Epoch 33/200\n",
            "\u001b[1m25/25\u001b[0m \u001b[32m━━━━━━━━━━━━━━━━━━━━\u001b[0m\u001b[37m\u001b[0m \u001b[1m0s\u001b[0m 3ms/step - accuracy: 0.9486 - loss: 0.1188 - val_accuracy: 0.9600 - val_loss: 0.1102\n",
            "Epoch 34/200\n",
            "\u001b[1m25/25\u001b[0m \u001b[32m━━━━━━━━━━━━━━━━━━━━\u001b[0m\u001b[37m\u001b[0m \u001b[1m0s\u001b[0m 3ms/step - accuracy: 0.9376 - loss: 0.1342 - val_accuracy: 0.9600 - val_loss: 0.1103\n",
            "Epoch 35/200\n",
            "\u001b[1m25/25\u001b[0m \u001b[32m━━━━━━━━━━━━━━━━━━━━\u001b[0m\u001b[37m\u001b[0m \u001b[1m0s\u001b[0m 3ms/step - accuracy: 0.9487 - loss: 0.1294 - val_accuracy: 0.9550 - val_loss: 0.1093\n",
            "Epoch 36/200\n",
            "\u001b[1m25/25\u001b[0m \u001b[32m━━━━━━━━━━━━━━━━━━━━\u001b[0m\u001b[37m\u001b[0m \u001b[1m0s\u001b[0m 3ms/step - accuracy: 0.9491 - loss: 0.1347 - val_accuracy: 0.9600 - val_loss: 0.1127\n",
            "Epoch 37/200\n",
            "\u001b[1m25/25\u001b[0m \u001b[32m━━━━━━━━━━━━━━━━━━━━\u001b[0m\u001b[37m\u001b[0m \u001b[1m0s\u001b[0m 3ms/step - accuracy: 0.9779 - loss: 0.1072 - val_accuracy: 0.9600 - val_loss: 0.1093\n",
            "Epoch 38/200\n",
            "\u001b[1m25/25\u001b[0m \u001b[32m━━━━━━━━━━━━━━━━━━━━\u001b[0m\u001b[37m\u001b[0m \u001b[1m0s\u001b[0m 3ms/step - accuracy: 0.9664 - loss: 0.1087 - val_accuracy: 0.9600 - val_loss: 0.1078\n",
            "Epoch 39/200\n",
            "\u001b[1m25/25\u001b[0m \u001b[32m━━━━━━━━━━━━━━━━━━━━\u001b[0m\u001b[37m\u001b[0m \u001b[1m0s\u001b[0m 3ms/step - accuracy: 0.9581 - loss: 0.1146 - val_accuracy: 0.9550 - val_loss: 0.1104\n",
            "Epoch 40/200\n",
            "\u001b[1m25/25\u001b[0m \u001b[32m━━━━━━━━━━━━━━━━━━━━\u001b[0m\u001b[37m\u001b[0m \u001b[1m0s\u001b[0m 3ms/step - accuracy: 0.9554 - loss: 0.1006 - val_accuracy: 0.9550 - val_loss: 0.1076\n",
            "Epoch 41/200\n",
            "\u001b[1m25/25\u001b[0m \u001b[32m━━━━━━━━━━━━━━━━━━━━\u001b[0m\u001b[37m\u001b[0m \u001b[1m0s\u001b[0m 3ms/step - accuracy: 0.9695 - loss: 0.0894 - val_accuracy: 0.9600 - val_loss: 0.1103\n",
            "Epoch 42/200\n",
            "\u001b[1m25/25\u001b[0m \u001b[32m━━━━━━━━━━━━━━━━━━━━\u001b[0m\u001b[37m\u001b[0m \u001b[1m0s\u001b[0m 3ms/step - accuracy: 0.9469 - loss: 0.1273 - val_accuracy: 0.9600 - val_loss: 0.1120\n",
            "Epoch 43/200\n",
            "\u001b[1m25/25\u001b[0m \u001b[32m━━━━━━━━━━━━━━━━━━━━\u001b[0m\u001b[37m\u001b[0m \u001b[1m0s\u001b[0m 3ms/step - accuracy: 0.9601 - loss: 0.1109 - val_accuracy: 0.9650 - val_loss: 0.1080\n",
            "Epoch 44/200\n",
            "\u001b[1m25/25\u001b[0m \u001b[32m━━━━━━━━━━━━━━━━━━━━\u001b[0m\u001b[37m\u001b[0m \u001b[1m0s\u001b[0m 3ms/step - accuracy: 0.9592 - loss: 0.1130 - val_accuracy: 0.9650 - val_loss: 0.1092\n",
            "Epoch 45/200\n",
            "\u001b[1m25/25\u001b[0m \u001b[32m━━━━━━━━━━━━━━━━━━━━\u001b[0m\u001b[37m\u001b[0m \u001b[1m0s\u001b[0m 3ms/step - accuracy: 0.9556 - loss: 0.1190 - val_accuracy: 0.9600 - val_loss: 0.1113\n",
            "Epoch 46/200\n",
            "\u001b[1m25/25\u001b[0m \u001b[32m━━━━━━━━━━━━━━━━━━━━\u001b[0m\u001b[37m\u001b[0m \u001b[1m0s\u001b[0m 3ms/step - accuracy: 0.9527 - loss: 0.1143 - val_accuracy: 0.9650 - val_loss: 0.1076\n",
            "Epoch 47/200\n",
            "\u001b[1m25/25\u001b[0m \u001b[32m━━━━━━━━━━━━━━━━━━━━\u001b[0m\u001b[37m\u001b[0m \u001b[1m0s\u001b[0m 3ms/step - accuracy: 0.9741 - loss: 0.0897 - val_accuracy: 0.9600 - val_loss: 0.1115\n",
            "Epoch 48/200\n",
            "\u001b[1m25/25\u001b[0m \u001b[32m━━━━━━━━━━━━━━━━━━━━\u001b[0m\u001b[37m\u001b[0m \u001b[1m0s\u001b[0m 3ms/step - accuracy: 0.9678 - loss: 0.0914 - val_accuracy: 0.9600 - val_loss: 0.1144\n",
            "Epoch 49/200\n",
            "\u001b[1m25/25\u001b[0m \u001b[32m━━━━━━━━━━━━━━━━━━━━\u001b[0m\u001b[37m\u001b[0m \u001b[1m0s\u001b[0m 3ms/step - accuracy: 0.9614 - loss: 0.0943 - val_accuracy: 0.9550 - val_loss: 0.1095\n",
            "Epoch 50/200\n",
            "\u001b[1m25/25\u001b[0m \u001b[32m━━━━━━━━━━━━━━━━━━━━\u001b[0m\u001b[37m\u001b[0m \u001b[1m0s\u001b[0m 3ms/step - accuracy: 0.9479 - loss: 0.1009 - val_accuracy: 0.9550 - val_loss: 0.1082\n",
            "Epoch 51/200\n",
            "\u001b[1m25/25\u001b[0m \u001b[32m━━━━━━━━━━━━━━━━━━━━\u001b[0m\u001b[37m\u001b[0m \u001b[1m0s\u001b[0m 3ms/step - accuracy: 0.9563 - loss: 0.1209 - val_accuracy: 0.9650 - val_loss: 0.1026\n",
            "Epoch 52/200\n",
            "\u001b[1m25/25\u001b[0m \u001b[32m━━━━━━━━━━━━━━━━━━━━\u001b[0m\u001b[37m\u001b[0m \u001b[1m0s\u001b[0m 3ms/step - accuracy: 0.9599 - loss: 0.0918 - val_accuracy: 0.9650 - val_loss: 0.1048\n",
            "Epoch 53/200\n",
            "\u001b[1m25/25\u001b[0m \u001b[32m━━━━━━━━━━━━━━━━━━━━\u001b[0m\u001b[37m\u001b[0m \u001b[1m0s\u001b[0m 3ms/step - accuracy: 0.9770 - loss: 0.0835 - val_accuracy: 0.9650 - val_loss: 0.1038\n",
            "Epoch 54/200\n",
            "\u001b[1m25/25\u001b[0m \u001b[32m━━━━━━━━━━━━━━━━━━━━\u001b[0m\u001b[37m\u001b[0m \u001b[1m0s\u001b[0m 3ms/step - accuracy: 0.9700 - loss: 0.0963 - val_accuracy: 0.9600 - val_loss: 0.1074\n",
            "Epoch 55/200\n",
            "\u001b[1m25/25\u001b[0m \u001b[32m━━━━━━━━━━━━━━━━━━━━\u001b[0m\u001b[37m\u001b[0m \u001b[1m0s\u001b[0m 4ms/step - accuracy: 0.9856 - loss: 0.0649 - val_accuracy: 0.9600 - val_loss: 0.1085\n",
            "Epoch 56/200\n",
            "\u001b[1m25/25\u001b[0m \u001b[32m━━━━━━━━━━━━━━━━━━━━\u001b[0m\u001b[37m\u001b[0m \u001b[1m0s\u001b[0m 3ms/step - accuracy: 0.9636 - loss: 0.0979 - val_accuracy: 0.9600 - val_loss: 0.1102\n",
            "Epoch 57/200\n",
            "\u001b[1m25/25\u001b[0m \u001b[32m━━━━━━━━━━━━━━━━━━━━\u001b[0m\u001b[37m\u001b[0m \u001b[1m0s\u001b[0m 3ms/step - accuracy: 0.9649 - loss: 0.1044 - val_accuracy: 0.9550 - val_loss: 0.1116\n",
            "Epoch 58/200\n",
            "\u001b[1m25/25\u001b[0m \u001b[32m━━━━━━━━━━━━━━━━━━━━\u001b[0m\u001b[37m\u001b[0m \u001b[1m0s\u001b[0m 3ms/step - accuracy: 0.9539 - loss: 0.1035 - val_accuracy: 0.9600 - val_loss: 0.1067\n",
            "Epoch 59/200\n",
            "\u001b[1m25/25\u001b[0m \u001b[32m━━━━━━━━━━━━━━━━━━━━\u001b[0m\u001b[37m\u001b[0m \u001b[1m0s\u001b[0m 3ms/step - accuracy: 0.9688 - loss: 0.0835 - val_accuracy: 0.9600 - val_loss: 0.1075\n",
            "Epoch 60/200\n",
            "\u001b[1m25/25\u001b[0m \u001b[32m━━━━━━━━━━━━━━━━━━━━\u001b[0m\u001b[37m\u001b[0m \u001b[1m0s\u001b[0m 3ms/step - accuracy: 0.9643 - loss: 0.0839 - val_accuracy: 0.9600 - val_loss: 0.1079\n",
            "Epoch 61/200\n",
            "\u001b[1m25/25\u001b[0m \u001b[32m━━━━━━━━━━━━━━━━━━━━\u001b[0m\u001b[37m\u001b[0m \u001b[1m0s\u001b[0m 3ms/step - accuracy: 0.9591 - loss: 0.0877 - val_accuracy: 0.9600 - val_loss: 0.1120\n",
            "Epoch 62/200\n",
            "\u001b[1m25/25\u001b[0m \u001b[32m━━━━━━━━━━━━━━━━━━━━\u001b[0m\u001b[37m\u001b[0m \u001b[1m0s\u001b[0m 3ms/step - accuracy: 0.9720 - loss: 0.0817 - val_accuracy: 0.9600 - val_loss: 0.1101\n",
            "Epoch 63/200\n",
            "\u001b[1m25/25\u001b[0m \u001b[32m━━━━━━━━━━━━━━━━━━━━\u001b[0m\u001b[37m\u001b[0m \u001b[1m0s\u001b[0m 3ms/step - accuracy: 0.9720 - loss: 0.0713 - val_accuracy: 0.9600 - val_loss: 0.1107\n",
            "Epoch 64/200\n",
            "\u001b[1m25/25\u001b[0m \u001b[32m━━━━━━━━━━━━━━━━━━━━\u001b[0m\u001b[37m\u001b[0m \u001b[1m0s\u001b[0m 3ms/step - accuracy: 0.9777 - loss: 0.0576 - val_accuracy: 0.9550 - val_loss: 0.1152\n",
            "Epoch 65/200\n",
            "\u001b[1m25/25\u001b[0m \u001b[32m━━━━━━━━━━━━━━━━━━━━\u001b[0m\u001b[37m\u001b[0m \u001b[1m0s\u001b[0m 3ms/step - accuracy: 0.9719 - loss: 0.0794 - val_accuracy: 0.9600 - val_loss: 0.1075\n",
            "Epoch 66/200\n",
            "\u001b[1m25/25\u001b[0m \u001b[32m━━━━━━━━━━━━━━━━━━━━\u001b[0m\u001b[37m\u001b[0m \u001b[1m0s\u001b[0m 3ms/step - accuracy: 0.9605 - loss: 0.0879 - val_accuracy: 0.9600 - val_loss: 0.1080\n"
          ]
        }
      ]
    },
    {
      "cell_type": "markdown",
      "source": [
        "### 7.5 Visualize Training History\n"
      ],
      "metadata": {
        "id": "ggAmee3w9dxC"
      }
    },
    {
      "cell_type": "code",
      "source": [
        "plt.figure(figsize=(12, 5))\n",
        "\n",
        "#Accuracy Plot\n",
        "plt.subplot(1, 2, 1)\n",
        "plt.plot(history.history['accuracy'], label='Train Accuracy')\n",
        "plt.plot(history.history['val_accuracy'], label='Validation Accuracy')\n",
        "plt.title('Neural Network Accuracy')\n",
        "plt.xlabel('Epochs')\n",
        "plt.ylabel('Accuracy')\n",
        "plt.legend()\n",
        "\n",
        "#Loss Plot\n",
        "plt.subplot(1, 2, 2)\n",
        "plt.plot(history.history['loss'], label='Train Loss')\n",
        "plt.plot(history.history['val_loss'], label='Validation Loss')\n",
        "plt.title('Neural Network Loss')\n",
        "plt.xlabel('Epochs')\n",
        "plt.ylabel('Loss')\n",
        "plt.legend()\n",
        "\n",
        "plt.tight_layout()\n",
        "plt.show()\n"
      ],
      "metadata": {
        "colab": {
          "base_uri": "https://localhost:8080/",
          "height": 507
        },
        "id": "RFXwW54g9ext",
        "outputId": "7b149c19-48fa-45aa-a7d0-ccfe2829effb"
      },
      "execution_count": 30,
      "outputs": [
        {
          "output_type": "display_data",
          "data": {
            "text/plain": [
              "<Figure size 1200x500 with 2 Axes>"
            ],
            "image/png": "[encoded data removed]"
          },
          "metadata": {}
        }
      ]
    },
    {
      "cell_type": "markdown",
      "source": [
        "### 7.8 Evaluate Neural Network Model\n"
      ],
      "metadata": {
        "id": "yHq-BwsO9n0G"
      }
    },
    {
      "cell_type": "code",
      "source": [
        "nn_predictions = (model.predict(X_val_scaled) > 0.5).astype(int)\n",
        "print(\"Neural Network Classification Report:\")\n",
        "print(classification_report(y_val, nn_predictions))"
      ],
      "metadata": {
        "colab": {
          "base_uri": "https://localhost:8080/"
        },
        "id": "E2dkGD7z9qjp",
        "outputId": "c8e9cbcf-9b7e-43d0-aaec-ff82480b5065"
      },
      "execution_count": 31,
      "outputs": [
        {
          "output_type": "stream",
          "name": "stdout",
          "text": [
            "\u001b[1m7/7\u001b[0m \u001b[32m━━━━━━━━━━━━━━━━━━━━\u001b[0m\u001b[37m\u001b[0m \u001b[1m0s\u001b[0m 7ms/step \n",
            "Neural Network Classification Report:\n",
            "              precision    recall  f1-score   support\n",
            "\n",
            "           0       0.92      0.96      0.94        57\n",
            "           1       0.99      0.97      0.98       143\n",
            "\n",
            "    accuracy                           0.96       200\n",
            "   macro avg       0.95      0.96      0.96       200\n",
            "weighted avg       0.97      0.96      0.97       200\n",
            "\n"
          ]
        }
      ]
    },
    {
      "cell_type": "markdown",
      "source": [
        "## 8.Saving Artifacts\n"
      ],
      "metadata": {
        "id": "uFijP2Es9sLi"
      }
    },
    {
      "cell_type": "markdown",
      "source": [
        "### 8.1 Save Best Model (Random Forest)\n"
      ],
      "metadata": {
        "id": "klLQsEXs9vdK"
      }
    },
    {
      "cell_type": "code",
      "source": [
        "import joblib\n",
        "joblib.dump(rf_best, 'best_random_forest_model.pkl')"
      ],
      "metadata": {
        "colab": {
          "base_uri": "https://localhost:8080/"
        },
        "id": "BKdcoKs_9x1n",
        "outputId": "c145401c-01c6-434e-ae1e-d1436d3c8590"
      },
      "execution_count": 32,
      "outputs": [
        {
          "output_type": "execute_result",
          "data": {
            "text/plain": [
              "['best_random_forest_model.pkl']"
            ]
          },
          "metadata": {},
          "execution_count": 32
        }
      ]
    },
    {
      "cell_type": "markdown",
      "source": [
        "### 8.2 Save Scaler\n"
      ],
      "metadata": {
        "id": "RMlxe3vi9zZ1"
      }
    },
    {
      "cell_type": "code",
      "source": [
        "joblib.dump(scaler, 'scaler.pkl')\n"
      ],
      "metadata": {
        "colab": {
          "base_uri": "https://localhost:8080/"
        },
        "id": "mTGBapOu90Xl",
        "outputId": "1f4444b4-6bf7-4912-9d95-b5180b5b6810"
      },
      "execution_count": 33,
      "outputs": [
        {
          "output_type": "execute_result",
          "data": {
            "text/plain": [
              "['scaler.pkl']"
            ]
          },
          "metadata": {},
          "execution_count": 33
        }
      ]
    }
  ]
}
